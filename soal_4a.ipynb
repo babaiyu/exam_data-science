{
 "cells": [
  {
   "cell_type": "code",
   "execution_count": 1,
   "metadata": {},
   "outputs": [],
   "source": [
    "import pandas as pd\n",
    "\n",
    "# Read data\n",
    "data = pd.read_json('data.json')\n",
    "df = pd.DataFrame(data)\n",
    "\n",
    "df.fillna(0, inplace=True)\n",
    "df['sex'] = df['sex'].apply(lambda x: 0 if x == 'male' else 1)"
   ]
  },
  {
   "cell_type": "code",
   "execution_count": 2,
   "metadata": {},
   "outputs": [
    {
     "name": "stdout",
     "output_type": "stream",
     "text": [
      "Statistic:\n",
      "       avg_saving_balance  avg_checking_balance  avg_credit_amt  avg_duration\n",
      "count        10000.000000          10000.000000    10000.000000  10000.000000\n",
      "mean            12.027620             23.319986     1114.040689     18.794874\n",
      "std              8.457760             16.160788      794.160197     14.147564\n",
      "min              0.000136              0.001008        0.590913      0.000660\n",
      "25%              5.263416             10.216257      508.428682      7.610653\n",
      "50%             10.659358             21.196107      979.313800     15.917104\n",
      "75%             17.386296             33.528241     1541.058528     26.855156\n",
      "max             52.279016            109.089400     6510.126418     92.214901\n",
      "\n",
      "Default counts: \n",
      "0    6468\n",
      "1    3532\n",
      "Name: default, dtype: int64\n",
      "\n",
      "Correlation Matrix:\n",
      "                            id       age       sex       job  \\\n",
      "id                    1.000000 -0.006308 -0.008688  0.002024   \n",
      "age                  -0.006308  1.000000  0.009702 -0.006014   \n",
      "sex                  -0.008688  0.009702  1.000000  0.010524   \n",
      "job                   0.002024 -0.006014  0.010524  1.000000   \n",
      "avg_saving_balance   -0.000992 -0.011456  0.008909 -0.010525   \n",
      "avg_checking_balance  0.000629 -0.002078 -0.006451 -0.013195   \n",
      "avg_credit_amt       -0.008614 -0.014945 -0.002066 -0.006803   \n",
      "avg_duration         -0.009005 -0.012476  0.004796 -0.001243   \n",
      "default              -0.003286  0.017803  0.010192  0.004598   \n",
      "\n",
      "                      avg_saving_balance  avg_checking_balance  \\\n",
      "id                             -0.000992              0.000629   \n",
      "age                            -0.011456             -0.002078   \n",
      "sex                             0.008909             -0.006451   \n",
      "job                            -0.010525             -0.013195   \n",
      "avg_saving_balance              1.000000             -0.485329   \n",
      "avg_checking_balance           -0.485329              1.000000   \n",
      "avg_credit_amt                 -0.128161              0.228790   \n",
      "avg_duration                   -0.267676              0.238426   \n",
      "default                         0.034036             -0.041472   \n",
      "\n",
      "                      avg_credit_amt  avg_duration   default  \n",
      "id                         -0.008614     -0.009005 -0.003286  \n",
      "age                        -0.014945     -0.012476  0.017803  \n",
      "sex                        -0.002066      0.004796  0.010192  \n",
      "job                        -0.006803     -0.001243  0.004598  \n",
      "avg_saving_balance         -0.128161     -0.267676  0.034036  \n",
      "avg_checking_balance        0.228790      0.238426 -0.041472  \n",
      "avg_credit_amt              1.000000      0.709711  0.071883  \n",
      "avg_duration                0.709711      1.000000  0.078474  \n",
      "default                     0.071883      0.078474  1.000000  \n"
     ]
    },
    {
     "name": "stderr",
     "output_type": "stream",
     "text": [
      "/var/folders/nf/ddqrl7xj4dlg3bgqw8wcvjjm0000gn/T/ipykernel_3844/2328605025.py:5: FutureWarning: The default value of numeric_only in DataFrame.corr is deprecated. In a future version, it will default to False. Select only valid columns or specify the value of numeric_only to silence this warning.\n",
      "  corrMatrix = df.corr()\n"
     ]
    }
   ],
   "source": [
    "# Statistik\n",
    "attributes = ['avg_saving_balance', 'avg_checking_balance', 'avg_credit_amt', 'avg_duration']\n",
    "statistic = df[attributes].describe()\n",
    "defaultCounts = df['default'].value_counts()\n",
    "corrMatrix = df.corr()\n",
    "\n",
    "print(\"Statistic:\")\n",
    "print(statistic)\n",
    "print()\n",
    "\n",
    "print(\"Default counts: \")\n",
    "print(defaultCounts)\n",
    "print()\n",
    "\n",
    "print(\"Correlation Matrix:\")\n",
    "print(corrMatrix)"
   ]
  }
 ],
 "metadata": {
  "kernelspec": {
   "display_name": "tp1_ds",
   "language": "python",
   "name": "python3"
  },
  "language_info": {
   "codemirror_mode": {
    "name": "ipython",
    "version": 3
   },
   "file_extension": ".py",
   "mimetype": "text/x-python",
   "name": "python",
   "nbconvert_exporter": "python",
   "pygments_lexer": "ipython3",
   "version": "3.11.4"
  },
  "orig_nbformat": 4
 },
 "nbformat": 4,
 "nbformat_minor": 2
}
