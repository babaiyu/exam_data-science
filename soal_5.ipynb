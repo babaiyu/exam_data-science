{
 "cells": [
  {
   "cell_type": "code",
   "execution_count": 1,
   "metadata": {},
   "outputs": [],
   "source": [
    "import pandas as pd\n",
    "from sklearn.model_selection import train_test_split\n",
    "from sklearn.tree import DecisionTreeClassifier\n",
    "from sklearn.metrics import accuracy_score, classification_report\n",
    "from sklearn.model_selection import GridSearchCV\n"
   ]
  },
  {
   "cell_type": "code",
   "execution_count": 2,
   "metadata": {},
   "outputs": [],
   "source": [
    "# Get data from data.json\n",
    "data = pd.read_json('data.json')\n",
    "df = pd.DataFrame(data)\n"
   ]
  },
  {
   "cell_type": "code",
   "execution_count": 3,
   "metadata": {},
   "outputs": [],
   "source": [
    "# Data pre-processing\n",
    "df.fillna(0, inplace=True)\n",
    "df['sex'] = df['sex'].map({'male': 0, 'female': 1})\n",
    "df['housing'] = df['housing'].map({'free': 0, 'own': 1, 'rent': 2})\n",
    "df['purpose'] = df['purpose'].map(\n",
    "    {'phone': 0, 'education': 1, 'vacation': 2, 'vehicle': 3, 'house': 4})\n"
   ]
  },
  {
   "cell_type": "code",
   "execution_count": 4,
   "metadata": {},
   "outputs": [
    {
     "name": "stdout",
     "output_type": "stream",
     "text": [
      "Accuracy              :  0.646\n",
      "Classification Report : \n",
      "               precision    recall  f1-score   support\n",
      "\n",
      "           0       0.65      0.98      0.78      1268\n",
      "           1       0.64      0.07      0.13       732\n",
      "\n",
      "    accuracy                           0.65      2000\n",
      "   macro avg       0.64      0.53      0.45      2000\n",
      "weighted avg       0.64      0.65      0.54      2000\n",
      "\n"
     ]
    }
   ],
   "source": [
    "# Create independent attribute & target\n",
    "dfX = df.drop(['id', 'default'], axis=1)\n",
    "dfY = df['default']\n",
    "\n",
    "# Create data test & data train\n",
    "X_train, X_test, y_train, y_test = train_test_split(dfX, dfY, test_size=0.2)\n",
    "\n",
    "# Create a model\n",
    "model = DecisionTreeClassifier()\n",
    "\n",
    "# Train model\n",
    "model.fit(X_train, y_train)\n",
    "\n",
    "# Predict\n",
    "y_pred = model.predict(X_test)\n",
    "\n",
    "# Evaluating model\n",
    "accuracy = accuracy_score(y_test, y_pred)\n",
    "report = classification_report(y_test, y_pred)\n",
    "\n",
    "# Summary\n",
    "print(\"Accuracy              : \", accuracy)\n",
    "print(\"Classification Report : \\n\", report)\n"
   ]
  },
  {
   "cell_type": "code",
   "execution_count": 5,
   "metadata": {},
   "outputs": [
    {
     "name": "stdout",
     "output_type": "stream",
     "text": [
      "Best hyperparameters  : \n",
      "max_depth => None\n",
      "min_samples_leaf => 4\n",
      "min_samples_split => 2\n",
      "\n",
      "Accuracy              :  0.646\n",
      "Classification Report : \n",
      "               precision    recall  f1-score   support\n",
      "\n",
      "           0       0.65      0.98      0.78      1268\n",
      "           1       0.64      0.07      0.13       732\n",
      "\n",
      "    accuracy                           0.65      2000\n",
      "   macro avg       0.64      0.53      0.45      2000\n",
      "weighted avg       0.64      0.65      0.54      2000\n",
      "\n"
     ]
    }
   ],
   "source": [
    "# Config hyperparameter for Decision Tree\n",
    "param_grid = {\n",
    "    'max_depth': [None, 5, 10, 15],\n",
    "    'min_samples_split': [2, 5, 10],\n",
    "    'min_samples_leaf': [1, 2, 4]\n",
    "}\n",
    "\n",
    "# initialization GridSearchCV\n",
    "grid_search = GridSearchCV(estimator=model,\n",
    "                           param_grid=param_grid,\n",
    "                           cv=5,\n",
    "                           scoring='accuracy')\n",
    "\n",
    "# Train model with Grid Search\n",
    "grid_search.fit(X_train, y_train)\n",
    "\n",
    "# Get best Hyperparameter\n",
    "best_params = grid_search.best_params_\n",
    "\n",
    "# Predict with best model\n",
    "best_model = grid_search.best_estimator_\n",
    "y_pre = best_model.predict(X_test)\n",
    "\n",
    "# Evaluating model\n",
    "accuracyCV = accuracy_score(y_test, y_pred)\n",
    "reportCv = classification_report(y_test, y_pre)\n",
    "\n",
    "# Summary\n",
    "print(\"Best hyperparameters  : \")\n",
    "for param in best_params:\n",
    "    print(f\"{param} => {best_params[param]}\")\n",
    "print()\n",
    "print(\"Accuracy              : \", accuracy)\n",
    "print(\"Classification Report : \\n\", report)\n"
   ]
  }
 ],
 "metadata": {
  "kernelspec": {
   "display_name": "tp1_ds",
   "language": "python",
   "name": "python3"
  },
  "language_info": {
   "codemirror_mode": {
    "name": "ipython",
    "version": 3
   },
   "file_extension": ".py",
   "mimetype": "text/x-python",
   "name": "python",
   "nbconvert_exporter": "python",
   "pygments_lexer": "ipython3",
   "version": "3.11.4"
  },
  "orig_nbformat": 4
 },
 "nbformat": 4,
 "nbformat_minor": 2
}
