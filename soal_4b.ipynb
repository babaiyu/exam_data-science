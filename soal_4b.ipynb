{
 "cells": [
  {
   "cell_type": "code",
   "execution_count": 1,
   "metadata": {},
   "outputs": [
    {
     "name": "stdout",
     "output_type": "stream",
     "text": [
      "Uji T-Test\n",
      "avg_saving_balance: p-value = 0.0006637578124994993 (Significant)\n",
      "avg_checking_balance: p-value = 3.3467772557248104e-05 (Significant)\n",
      "avg_credit_amt: p-value = 6.167141144620686e-13 (Significant)\n",
      "avg_duration: p-value = 3.886359598544819e-15 (Significant)\n",
      "\n"
     ]
    }
   ],
   "source": [
    "import pandas as pd\n",
    "from scipy.stats import ttest_ind\n",
    "\n",
    "# Read data\n",
    "data = pd.read_json('data.json')\n",
    "df = pd.DataFrame(data)\n",
    "\n",
    "df.fillna(0, inplace=True)\n",
    "df['sex'] = df['sex'].apply(lambda x: 'male' if x == 0 else 'female')\n",
    "\n",
    "# Uji T-Test (Numerik)\n",
    "print(\"Uji T-Test\")\n",
    "numericAttributes = ['age',\n",
    "                     'avg_saving_balance',\n",
    "                     'avg_checking_balance',\n",
    "                     'avg_credit_amt',\n",
    "                     'avg_duration']\n",
    "for attribute in numericAttributes:\n",
    "    defaultGroup = df[df['default'] == 1][attribute]\n",
    "    nonDefaultGroup = df[df['default'] == 0][attribute]\n",
    "\n",
    "    tStat, pValue = ttest_ind(defaultGroup, nonDefaultGroup)\n",
    "\n",
    "    if pValue < 0.05:\n",
    "        print(f\"{attribute}: p-value = {pValue} (Significant)\")\n",
    "\n",
    "print()\n"
   ]
  }
 ],
 "metadata": {
  "kernelspec": {
   "display_name": "tp1_ds",
   "language": "python",
   "name": "python3"
  },
  "language_info": {
   "codemirror_mode": {
    "name": "ipython",
    "version": 3
   },
   "file_extension": ".py",
   "mimetype": "text/x-python",
   "name": "python",
   "nbconvert_exporter": "python",
   "pygments_lexer": "ipython3",
   "version": "3.11.4"
  },
  "orig_nbformat": 4
 },
 "nbformat": 4,
 "nbformat_minor": 2
}
